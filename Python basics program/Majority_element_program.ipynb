{
 "cells": [
  {
   "cell_type": "code",
   "execution_count": 5,
   "metadata": {},
   "outputs": [],
   "source": [
    "def problem():\n",
    "    A = [3, 4, 3, 6, 1, 3, 2, 5, 3, 3, 3]\n",
    "    A.sort()\n",
    "    current = None\n",
    "    freq = 0\n",
    "    for x in A:\n",
    "        if x == current:\n",
    "            freq += 1\n",
    "            if freq > len(A)/2:\n",
    "                return current\n",
    "            else:\n",
    "                current = x\n",
    "                frequency = 1"
   ]
  }
 ],
 "metadata": {
  "kernelspec": {
   "display_name": "Python 3",
   "language": "python",
   "name": "python3"
  },
  "language_info": {
   "codemirror_mode": {
    "name": "ipython",
    "version": 3
   },
   "file_extension": ".py",
   "mimetype": "text/x-python",
   "name": "python",
   "nbconvert_exporter": "python",
   "pygments_lexer": "ipython3",
   "version": "3.10.5"
  },
  "orig_nbformat": 4
 },
 "nbformat": 4,
 "nbformat_minor": 2
}
