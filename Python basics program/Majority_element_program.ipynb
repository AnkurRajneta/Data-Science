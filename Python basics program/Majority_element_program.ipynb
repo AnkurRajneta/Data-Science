{
 "cells": [
  {
   "cell_type": "code",
   "execution_count": 23,
   "metadata": {},
   "outputs": [],
   "source": [
    "def problem(A):\n",
    "    \n",
    "    A.sort()\n",
    "    current = None\n",
    "    freq = 0\n",
    "    for x in A:\n",
    "        if x == current:\n",
    "            freq += 1\n",
    "            if freq > len(A)/2:\n",
    "                return current\n",
    "            else:\n",
    "                current = x\n",
    "                frequency = 1"
   ]
  },
  {
   "cell_type": "code",
   "execution_count": 24,
   "metadata": {},
   "outputs": [],
   "source": [
    "A = [3, 4, 3, 6, 1, 3, 2, 5, 3, 3, 3]\n",
    "problem(A)"
   ]
  },
  {
   "cell_type": "code",
   "execution_count": 42,
   "metadata": {},
   "outputs": [
    {
     "name": "stdout",
     "output_type": "stream",
     "text": [
      "3\n"
     ]
    }
   ],
   "source": [
    "freq = {}\n",
    "for x in A:\n",
    "    if x in freq:\n",
    "       freq[x]+=1\n",
    "       if freq[x] > len(A)//2:\n",
    "        print(x)\n",
    "    else:\n",
    "        freq[x]=1\n",
    "    "
   ]
  },
  {
   "cell_type": "code",
   "execution_count": null,
   "metadata": {},
   "outputs": [],
   "source": []
  }
 ],
 "metadata": {
  "kernelspec": {
   "display_name": "Python 3",
   "language": "python",
   "name": "python3"
  },
  "language_info": {
   "codemirror_mode": {
    "name": "ipython",
    "version": 3
   },
   "file_extension": ".py",
   "mimetype": "text/x-python",
   "name": "python",
   "nbconvert_exporter": "python",
   "pygments_lexer": "ipython3",
   "version": "3.10.5"
  },
  "orig_nbformat": 4
 },
 "nbformat": 4,
 "nbformat_minor": 2
}
