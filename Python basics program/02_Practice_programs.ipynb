{
 "cells": [
  {
   "cell_type": "markdown",
   "metadata": {},
   "source": [
    "### From a given list or Array find the third largest element"
   ]
  },
  {
   "cell_type": "code",
   "execution_count": 2,
   "metadata": {},
   "outputs": [
    {
     "name": "stdout",
     "output_type": "stream",
     "text": [
      "4\n"
     ]
    }
   ],
   "source": [
    "def Third_largest_element(arr: list):\n",
    "\n",
    "        n = len(arr)\n",
    "\n",
    "        first_max = arr[0]\n",
    "        second_max=arr[0]\n",
    "        third_max=arr[0]\n",
    "\n",
    "        for i in range(n):\n",
    "            if arr[i] > first_max:\n",
    "                first_max = arr[i]\n",
    "\n",
    "        for i in range(n):\n",
    "            if arr[i] != first_max and arr[i] > second_max:\n",
    "                second_max = arr[i]\n",
    "\n",
    "        for i in range(n):\n",
    "            if arr[i] != first_max and arr[i] != second_max and arr[i] > third_max:\n",
    "                third_max = arr[i]\n",
    "\n",
    "        return third_max \n",
    "\n",
    "\n",
    "print(Third_largest_element([1, 4, 7, 8]))"
   ]
  },
  {
   "cell_type": "markdown",
   "metadata": {},
   "source": [
    "### Find second largest element from a list or array. if second largest element does not exists, return -1"
   ]
  },
  {
   "cell_type": "code",
   "execution_count": 16,
   "metadata": {},
   "outputs": [
    {
     "name": "stdout",
     "output_type": "stream",
     "text": [
      "7\n"
     ]
    }
   ],
   "source": [
    "a=[1,3,7,4,9,2,9,5,6]\n",
    "first_max = a[0]\n",
    "for i in range(len(a)):\n",
    "    if a[i] > first_max:\n",
    "        first_max = a[i]\n",
    "\n",
    "second_max = a[0]\n",
    "for i in range(len(a)):\n",
    "    if a[i] > second_max and a[i] != first_max:\n",
    "       second_max = a[i]\n",
    "\n",
    "if second_max == a[0]:\n",
    "    second_max = -1\n"
   ]
  },
  {
   "cell_type": "markdown",
   "metadata": {},
   "source": [
    "## Given n element in a list count the no of elements which has atleast 1 element greater then itself present in the list"
   ]
  },
  {
   "cell_type": "code",
   "execution_count": 1,
   "metadata": {},
   "outputs": [
    {
     "name": "stdout",
     "output_type": "stream",
     "text": [
      "5\n"
     ]
    }
   ],
   "source": [
    "a = [6, 5, 1, 4, 3, 2]\n",
    "given = a[0]\n",
    "for value in a:\n",
    "    if value > given:\n",
    "        given = value\n",
    "\n",
    "count = 0\n",
    "for value in a:\n",
    "    if value == given:\n",
    "        count += 1\n",
    "print(len(a)-count)\n"
   ]
  },
  {
   "cell_type": "markdown",
   "metadata": {},
   "source": [
    "## Given an array a[ ] of size N. The task is to find the median and mean of the array elements. Mean is average of the numbers and median is the element which is smaller than half of the elements and greater than remaining half.  If there are odd elements, the median is simply the middle element in the sorted array. If there are even elements, then the median is floor of average of two middle numbers in the sorted array. If mean is floating point number, then we need to print floor of it."
   ]
  },
  {
   "cell_type": "code",
   "execution_count": 1,
   "metadata": {},
   "outputs": [
    {
     "name": "stdout",
     "output_type": "stream",
     "text": [
      "mean: 4\n",
      "median: 3\n"
     ]
    }
   ],
   "source": [
    "A = [2, 8, 3]\n",
    "n = 3\n",
    "total = 0\n",
    "\n",
    "for i in A:\n",
    "    total += i\n",
    "mean = total // n\n",
    "\n",
    "print(f'mean: {mean}')\n",
    "\n",
    "A.sort()\n",
    "j = A\n",
    "median = 0\n",
    "\n",
    "if n % 2 == 0:\n",
    "    idx = n // 2\n",
    "    median = (j[idx] + j[idx - 1]) // 2\n",
    "else:\n",
    "    median = j[n // 2]\n",
    "\n",
    "print(f'median: {median}')\n"
   ]
  },
  {
   "cell_type": "markdown",
   "metadata": {},
   "source": []
  }
 ],
 "metadata": {
  "kernelspec": {
   "display_name": "Python 3.10.5 64-bit",
   "language": "python",
   "name": "python3"
  },
  "language_info": {
   "codemirror_mode": {
    "name": "ipython",
    "version": 3
   },
   "file_extension": ".py",
   "mimetype": "text/x-python",
   "name": "python",
   "nbconvert_exporter": "python",
   "pygments_lexer": "ipython3",
   "version": "3.10.5"
  },
  "orig_nbformat": 4,
  "vscode": {
   "interpreter": {
    "hash": "26de051ba29f2982a8de78e945f0abaf191376122a1563185a90213a26c5da77"
   }
  }
 },
 "nbformat": 4,
 "nbformat_minor": 2
}
