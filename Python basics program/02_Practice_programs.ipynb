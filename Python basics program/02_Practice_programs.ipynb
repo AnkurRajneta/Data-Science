{
 "cells": [
  {
   "cell_type": "markdown",
   "metadata": {},
   "source": [
    "## Third largest element"
   ]
  },
  {
   "cell_type": "code",
   "execution_count": 1,
   "metadata": {},
   "outputs": [
    {
     "name": "stdout",
     "output_type": "stream",
     "text": [
      "4\n"
     ]
    }
   ],
   "source": [
    "\n",
    "def Third_largest_element(n): \n",
    "        n = int(input())\n",
    "        a=[]\n",
    "        for i in range(n):\n",
    "            b=int(input())\n",
    "            a.append(b)\n",
    "        first_max = a[0]\n",
    "        for i in range(len(a)):\n",
    "            if a[i] > first_max:\n",
    "                first_max = a[i]\n",
    "\n",
    "        second_max=a[0]\n",
    "        for i in range(len(a)):\n",
    "            if a[i] != first_max and a[i] > second_max:\n",
    "                second_max = a[i]\n",
    "\n",
    "        third_max=a[0]\n",
    "        for i in range(len(a)):\n",
    "            if a[i] != first_max and a[i] != second_max and a[i] > third_max:\n",
    "                third_max = a[i]\n",
    "        print(third_max) \n",
    "\n",
    "Third_largest_element(5)\n",
    "            \n"
   ]
  },
  {
   "cell_type": "markdown",
   "metadata": {},
   "source": [
    "## Find second largest element if not finded then return -1"
   ]
  },
  {
   "cell_type": "code",
   "execution_count": 16,
   "metadata": {},
   "outputs": [
    {
     "name": "stdout",
     "output_type": "stream",
     "text": [
      "7\n"
     ]
    }
   ],
   "source": [
    "a=[1,3,7,4,9,2,9,5,6]\n",
    "first_max = a[0]\n",
    "for i in range(len(a)):\n",
    "    if a[i] > first_max:\n",
    "        first_max = a[i]\n",
    "\n",
    "second_max = a[0]\n",
    "for i in range(len(a)):\n",
    "    if a[i] > second_max and a[i] != first_max:\n",
    "       second_max = a[i]\n",
    "\n",
    "if second_max == a[0]:\n",
    "    second_max = -1\n",
    "\n",
    "print(second_max)\n"
   ]
  },
  {
   "cell_type": "code",
   "execution_count": null,
   "metadata": {},
   "outputs": [],
   "source": []
  }
 ],
 "metadata": {
  "kernelspec": {
   "display_name": "Python 3.10.5 64-bit",
   "language": "python",
   "name": "python3"
  },
  "language_info": {
   "codemirror_mode": {
    "name": "ipython",
    "version": 3
   },
   "file_extension": ".py",
   "mimetype": "text/x-python",
   "name": "python",
   "nbconvert_exporter": "python",
   "pygments_lexer": "ipython3",
   "version": "3.10.5"
  },
  "orig_nbformat": 4,
  "vscode": {
   "interpreter": {
    "hash": "26de051ba29f2982a8de78e945f0abaf191376122a1563185a90213a26c5da77"
   }
  }
 },
 "nbformat": 4,
 "nbformat_minor": 2
}
