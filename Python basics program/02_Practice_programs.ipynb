{
 "cells": [
  {
   "cell_type": "markdown",
   "metadata": {},
   "source": [
    "### From a given list or Array find the third largest element"
   ]
  },
  {
   "cell_type": "code",
   "execution_count": 2,
   "metadata": {},
   "outputs": [
    {
     "name": "stdout",
     "output_type": "stream",
     "text": [
      "4\n"
     ]
    }
   ],
   "source": [
    "def Third_largest_element(arr: list):\n",
    "\n",
    "        n = len(arr)\n",
    "\n",
    "        first_max = arr[0]\n",
    "        second_max=arr[0]\n",
    "        third_max=arr[0]\n",
    "\n",
    "        for i in range(n):\n",
    "            if arr[i] > first_max:\n",
    "                first_max = arr[i]\n",
    "\n",
    "        for i in range(n):\n",
    "            if arr[i] != first_max and arr[i] > second_max:\n",
    "                second_max = arr[i]\n",
    "\n",
    "        for i in range(n):\n",
    "            if arr[i] != first_max and arr[i] != second_max and arr[i] > third_max:\n",
    "                third_max = arr[i]\n",
    "\n",
    "        return third_max \n",
    "\n",
    "\n",
    "print(Third_largest_element([1, 4, 7, 8]))"
   ]
  },
  {
   "cell_type": "markdown",
   "metadata": {},
   "source": [
    "### Find second largest element from a list or array. if second largest element does not exists, return -1"
   ]
  },
  {
   "cell_type": "code",
   "execution_count": 16,
   "metadata": {},
   "outputs": [
    {
     "name": "stdout",
     "output_type": "stream",
     "text": [
      "7\n"
     ]
    }
   ],
   "source": [
    "a=[1,3,7,4,9,2,9,5,6]\n",
    "first_max = a[0]\n",
    "for i in range(len(a)):\n",
    "    if a[i] > first_max:\n",
    "        first_max = a[i]\n",
    "\n",
    "second_max = a[0]\n",
    "for i in range(len(a)):\n",
    "    if a[i] > second_max and a[i] != first_max:\n",
    "       second_max = a[i]\n",
    "\n",
    "if second_max == a[0]:\n",
    "    second_max = -1\n"
   ]
  },
  {
   "cell_type": "markdown",
   "metadata": {},
   "source": [
    "## Given n element in a list count the no of elements which has atleast 1 element greater then itself present in the list"
   ]
  },
  {
   "cell_type": "code",
   "execution_count": 1,
   "metadata": {},
   "outputs": [
    {
     "name": "stdout",
     "output_type": "stream",
     "text": [
      "5\n"
     ]
    }
   ],
   "source": [
    "a = [6, 5, 1, 4, 3, 2]\n",
    "given = a[0]\n",
    "for value in a:\n",
    "    if value > given:\n",
    "        given = value\n",
    "\n",
    "count = 0\n",
    "for value in a:\n",
    "    if value == given:\n",
    "        count += 1\n",
    "print(len(a)-count)\n"
   ]
  },
  {
   "cell_type": "markdown",
   "metadata": {},
   "source": [
    "## Given an array a[ ] of size N. The task is to find the median and mean of the array elements. Mean is average of the numbers and median is the element which is smaller than half of the elements and greater than remaining half.  If there are odd elements, the median is simply the middle element in the sorted array. If there are even elements, then the median is floor of average of two middle numbers in the sorted array. If mean is floating point number, then we need to print floor of it."
   ]
  },
  {
   "cell_type": "code",
   "execution_count": 1,
   "metadata": {},
   "outputs": [
    {
     "name": "stdout",
     "output_type": "stream",
     "text": [
      "mean: 4\n",
      "median: 3\n"
     ]
    }
   ],
   "source": [
    "A = [2, 8, 3]\n",
    "n = 3\n",
    "total = 0\n",
    "\n",
    "for i in A:\n",
    "    total += i\n",
    "mean = total // n\n",
    "\n",
    "print(f'mean: {mean}')\n",
    "\n",
    "A.sort()\n",
    "j = A\n",
    "median = 0\n",
    "\n",
    "if n % 2 == 0:\n",
    "    idx = n // 2\n",
    "    median = (j[idx] + j[idx - 1]) // 2\n",
    "else:\n",
    "    median = j[n // 2]\n",
    "\n",
    "print(f'median: {median}')\n"
   ]
  },
  {
   "cell_type": "markdown",
   "metadata": {},
   "source": [
    "## Given an array arr[] of size N and two elements x and y, use counter variables to find which element appears most in the array, x or y. If both elements have the same frequency, then return the smaller element.\n"
   ]
  },
  {
   "cell_type": "code",
   "execution_count": 3,
   "metadata": {},
   "outputs": [
    {
     "name": "stdout",
     "output_type": "stream",
     "text": [
      "1\n"
     ]
    }
   ],
   "source": [
    "arr = [1, 2, 3, 4, 5, 6, 7, 8]\n",
    "N = 8\n",
    "count = 0\n",
    "x = 1\n",
    "y = 7\n",
    "for i in arr:\n",
    "    if i == x:\n",
    "        count += 1\n",
    "total = 0\n",
    "for j in arr:\n",
    "    if j == y:\n",
    "        total += 1\n",
    "if total == count:\n",
    "    if x < y:\n",
    "        print(x)\n",
    "    else:\n",
    "        print(y)\n",
    "else:\n",
    "    M = max(total, count)\n",
    "    print(M)\n"
   ]
  },
  {
   "cell_type": "markdown",
   "metadata": {},
   "source": [
    "## First and Second Max\n",
    "\n",
    "- Given an array arr[] of size N of positive integers which may have duplicates. The task is to find the maximum and second maximum from the array, and both of them should be distinct, so If no second max exists, then the second max will be -1."
   ]
  },
  {
   "cell_type": "code",
   "execution_count": 1,
   "metadata": {},
   "outputs": [
    {
     "name": "stdout",
     "output_type": "stream",
     "text": [
      "(9, 8)\n"
     ]
    }
   ],
   "source": [
    "arr = [1, 5, 7, 8, 9, 6, 2, 3, 4]\n",
    "\n",
    "def twoMax(arr):\n",
    "    first_max = -float('inf')\n",
    "    for i in arr:\n",
    "        if i > first_max:\n",
    "            first_max = i\n",
    "\n",
    "    second_max = -float('inf')\n",
    "    for j in arr:\n",
    "        if j > second_max and j != first_max:\n",
    "            second_max = j\n",
    "\n",
    "    if second_max == -float('inf'):\n",
    "        second_max = -1\n",
    "\n",
    "    return first_max, second_max\n",
    "\n",
    "print(twoMax(arr))\n"
   ]
  },
  {
   "cell_type": "markdown",
   "metadata": {},
   "source": [
    "## Closing neighbour"
   ]
  },
  {
   "cell_type": "code",
   "execution_count": 1,
   "metadata": {},
   "outputs": [
    {
     "name": "stdout",
     "output_type": "stream",
     "text": [
      "2\n",
      "5\n",
      "6\n",
      "6\n",
      "8\n"
     ]
    }
   ],
   "source": [
    "arr = [1, 2, 5, 6, 4, 8]\n",
    "\n",
    "\n",
    "def large(arr):\n",
    "    a = -float('inf')\n",
    "\n",
    "    for i in range(1, len(arr)):\n",
    "        if arr[i] > a:\n",
    "            a = arr[i]\n",
    "        print(a)\n",
    "\n",
    "\n",
    "large(arr)\n"
   ]
  },
  {
   "cell_type": "code",
   "execution_count": null,
   "metadata": {},
   "outputs": [],
   "source": [
    "arr = [2, 4, 3, 6, 8, 9, 12]\n",
    "n = len(arr)\n",
    "k = int(input())\n",
    "max_sum = -float('inf')\n",
    "sum = 0\n",
    "for s in range(n-k+1):\n",
    "    e = s+k-1\n",
    "    for i in range(s,e+1):\n",
    "        sum += arr[i]\n",
    "    max_sum = max(sum,max_sum)\n"
   ]
  },
  {
   "cell_type": "code",
   "execution_count": 1,
   "metadata": {},
   "outputs": [
    {
     "name": "stdout",
     "output_type": "stream",
     "text": [
      "4\n",
      "5\n",
      "3\n"
     ]
    }
   ],
   "source": [
    "M = [[0,1,4],[2,5,9],[3,8,6]]\n",
    "m = len(M[0])\n",
    "n = len(M)\n",
    "r = 0\n",
    "c = m - 1\n",
    "while r <n:\n",
    "    print(M[r][c])\n",
    "    r +=1\n",
    "    c-=1\n"
   ]
  },
  {
   "cell_type": "code",
   "execution_count": 3,
   "metadata": {},
   "outputs": [],
   "source": [
    "\n",
    "    def kidsWithCandies(Candies):\n",
    "        extraCandies = 3\n",
    "        A = []     \n",
    "        max_num = max(Cndie)\n",
    "        for i in Candies:\n",
    "            maxi = i + extraCandies\n",
    "            flag = False\n",
    "            if maxi > max_num:\n",
    "                flag = True\n",
    "\n",
    "        if flag:\n",
    "                A.append(True)\n",
    "        else:\n",
    "                A.append(False)\n",
    "        print(A)\n",
    "\n"
   ]
  },
  {
   "cell_type": "code",
   "execution_count": 4,
   "metadata": {},
   "outputs": [
    {
     "name": "stdout",
     "output_type": "stream",
     "text": [
      "[True]\n"
     ]
    }
   ],
   "source": [
    "Candies = [2, 3, 5, 1, 3]\n",
    "kidsWithCandies(Candies)"
   ]
  },
  {
   "cell_type": "code",
   "execution_count": 6,
   "metadata": {},
   "outputs": [],
   "source": [
    "def two_sum(A,B):\n",
    "    n = len(A)\n",
    "    num_to_index = {}\n",
    "    for i in range(n):\n",
    "        required = B-A[i]\n",
    "        if required not in num_to_index:\n",
    "           num_to_index[A[i]]=i\n",
    "        \n",
    "        if required in num_to_index:\n",
    "            return (num_to_index[required],i+1)"
   ]
  },
  {
   "cell_type": "code",
   "execution_count": 7,
   "metadata": {},
   "outputs": [
    {
     "data": {
      "text/plain": [
       "(2, 3)"
      ]
     },
     "execution_count": 7,
     "metadata": {},
     "output_type": "execute_result"
    }
   ],
   "source": [
    "two_sum([2,3,5,8],10)"
   ]
  }
 ],
 "metadata": {
  "kernelspec": {
   "display_name": "Python 3.10.5 64-bit",
   "language": "python",
   "name": "python3"
  },
  "language_info": {
   "codemirror_mode": {
    "name": "ipython",
    "version": 3
   },
   "file_extension": ".py",
   "mimetype": "text/x-python",
   "name": "python",
   "nbconvert_exporter": "python",
   "pygments_lexer": "ipython3",
   "version": "3.10.5"
  },
  "orig_nbformat": 4,
  "vscode": {
   "interpreter": {
    "hash": "26de051ba29f2982a8de78e945f0abaf191376122a1563185a90213a26c5da77"
   }
  }
 },
 "nbformat": 4,
 "nbformat_minor": 2
}
