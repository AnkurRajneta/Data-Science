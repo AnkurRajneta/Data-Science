{
 "cells": [
  {
   "attachments": {},
   "cell_type": "markdown",
   "metadata": {},
   "source": [
    "In this basically we will be provided with the height and costs of the tree.We have to find the tree in increasing order of height and also we need to find the minimum cost of the tree."
   ]
  },
  {
   "cell_type": "code",
   "execution_count": 3,
   "metadata": {},
   "outputs": [
    {
     "name": "stdout",
     "output_type": "stream",
     "text": [
      "6\n"
     ]
    }
   ],
   "source": [
    "## Bruteforce solution\n",
    "height = [9,7,15,3,6,1,2,8,2,11,5,13,15,6]\n",
    "cost   = [6,4,1,5,8,5,9,11,6,3,3,2,1,4]\n",
    "n = len(height)\n",
    "min_cost = float('inf')\n",
    "for t1 in range(n):\n",
    "    for t2 in range(t1+1,n):\n",
    "        for t3 in range(t2+1,n):\n",
    "            if height[t1] < height[t2] < height[t3]:\n",
    "                coster = cost[t1] + cost[t2] + cost[t3]\n",
    "                min_cost = min(min_cost, cost[t1] + cost[t2] + cost[t3])\n",
    "\n",
    "print(min_cost)"
   ]
  },
  {
   "cell_type": "code",
   "execution_count": 1,
   "metadata": {},
   "outputs": [],
   "source": [
    "## christmas tree program optimized solution\n",
    "\n",
    "\n",
    "def min_cost(H,C):\n",
    "    n = len(H)\n",
    "    min_cost = float('inf')\n",
    "    for t2 in range(n):\n",
    "        t2h = H[t2]\n",
    "        t2c = C[t2]\n",
    "        t1c = float('inf')\n",
    "        \n",
    "        for i in range(t2):\n",
    "            if H[i] < t2h:\n",
    "                t1c = min(t1c,C[i])\n",
    "                \n",
    "        t3c = float('inf')\n",
    "        for i in range(t2+1,n):\n",
    "            if H[i] > t2h:\n",
    "                t3c = min(t3c,C[i])\n",
    "                \n",
    "        cost = t1c+t2c+t3c\n",
    "        \n",
    "        min_cost = min(cost,min_cost)\n",
    "    print(min_cost)\n",
    "               \n"
   ]
  },
  {
   "cell_type": "code",
   "execution_count": 2,
   "metadata": {},
   "outputs": [
    {
     "name": "stdout",
     "output_type": "stream",
     "text": [
      "6\n"
     ]
    }
   ],
   "source": [
    "min_cost(H = [9,7,15,3,6,1,2,8,2,11,5,13,15,6],\n",
    "C = [6,4,1,5,8,5,9,11,6,3,3,2,1,4])\n",
    "\n"
   ]
  }
 ],
 "metadata": {
  "kernelspec": {
   "display_name": "Python 3",
   "language": "python",
   "name": "python3"
  },
  "language_info": {
   "codemirror_mode": {
    "name": "ipython",
    "version": 3
   },
   "file_extension": ".py",
   "mimetype": "text/x-python",
   "name": "python",
   "nbconvert_exporter": "python",
   "pygments_lexer": "ipython3",
   "version": "3.10.5"
  },
  "orig_nbformat": 4,
  "vscode": {
   "interpreter": {
    "hash": "26de051ba29f2982a8de78e945f0abaf191376122a1563185a90213a26c5da77"
   }
  }
 },
 "nbformat": 4,
 "nbformat_minor": 2
}
