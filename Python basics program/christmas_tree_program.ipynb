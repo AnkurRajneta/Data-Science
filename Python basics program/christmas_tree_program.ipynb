{
 "cells": [
  {
   "attachments": {},
   "cell_type": "markdown",
   "metadata": {},
   "source": [
    "In this basically we will be provided with the height and costs of the tree.We have to find the tree in increasing order of height and also we need to find the minimum cost of the tree."
   ]
  },
  {
   "cell_type": "code",
   "execution_count": 3,
   "metadata": {},
   "outputs": [
    {
     "name": "stdout",
     "output_type": "stream",
     "text": [
      "6\n"
     ]
    }
   ],
   "source": [
    "## Bruteforce solution\n",
    "height = [9,7,15,3,6,1,2,8,2,11,5,13,15,6]\n",
    "cost   = [6,4,1,5,8,5,9,11,6,3,3,2,1,4]\n",
    "n = len(height)\n",
    "min_cost = float('inf')\n",
    "for t1 in range(n):\n",
    "    for t2 in range(t1+1,n):\n",
    "        for t3 in range(t2+1,n):\n",
    "            if height[t1] < height[t2] < height[t3]:\n",
    "                coster = cost[t1] + cost[t2] + cost[t3]\n",
    "                min_cost = min(min_cost, cost[t1] + cost[t2] + cost[t3])\n",
    "\n",
    "print(min_cost)"
   ]
  }
 ],
 "metadata": {
  "kernelspec": {
   "display_name": "Python 3",
   "language": "python",
   "name": "python3"
  },
  "language_info": {
   "codemirror_mode": {
    "name": "ipython",
    "version": 3
   },
   "file_extension": ".py",
   "mimetype": "text/x-python",
   "name": "python",
   "nbconvert_exporter": "python",
   "pygments_lexer": "ipython3",
   "version": "3.10.5"
  },
  "orig_nbformat": 4
 },
 "nbformat": 4,
 "nbformat_minor": 2
}
