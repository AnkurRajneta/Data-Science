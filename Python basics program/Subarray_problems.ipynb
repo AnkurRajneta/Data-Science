{
 "cells": [
  {
   "cell_type": "markdown",
   "metadata": {},
   "source": [
    "## To find the subarray having minimum distance between maximum and minimum value in an array "
   ]
  },
  {
   "cell_type": "code",
   "execution_count": 1,
   "metadata": {},
   "outputs": [
    {
     "name": "stdout",
     "output_type": "stream",
     "text": [
      "3\n"
     ]
    }
   ],
   "source": [
    "arr = [1, 2, 5, 3, 8, 1, 9, 5, 0]\n",
    "min_val = min(arr)\n",
    "max_val = max(arr)\n",
    "min_l = float('inf')\n",
    "i_min = None\n",
    "i_max = None\n",
    "for i in range(len(arr)):\n",
    "    if arr[i] == min_val:\n",
    "        i_min = i\n",
    "\n",
    "        if i_max is not None:\n",
    "            l = i_min - i_max + 1\n",
    "            min_l = min(l, min_l)\n",
    "\n",
    "    if arr[i] == max_val:\n",
    "        i_max = i\n",
    "        if i_min is not None:\n",
    "            l = i_max - i_min + 1\n",
    "            min_l = min(l, min_l)\n",
    "print(min_l)\n"
   ]
  },
  {
   "cell_type": "markdown",
   "metadata": {},
   "source": [
    "## Maximum subarray sum"
   ]
  },
  {
   "cell_type": "code",
   "execution_count": 2,
   "metadata": {},
   "outputs": [
    {
     "name": "stdout",
     "output_type": "stream",
     "text": [
      "34\n"
     ]
    }
   ],
   "source": [
    "## Brute force solution\n",
    "arr = [1, 2, 7, 4, 6, 9, -5, 10, -7]\n",
    "n = len(arr)\n",
    "max_sum = -float('inf')\n",
    "for s in range(n):\n",
    "    for e in range(s, n):\n",
    "        sum = 0\n",
    "        for i in range(s, e+1):\n",
    "            sum += arr[i]\n",
    "        if sum > max_sum:\n",
    "            max_sum = sum\n",
    "print(max_sum)\n"
   ]
  },
  {
   "cell_type": "code",
   "execution_count": 5,
   "metadata": {},
   "outputs": [
    {
     "name": "stdout",
     "output_type": "stream",
     "text": [
      "24\n"
     ]
    }
   ],
   "source": [
    "## Prefix sum approach\n",
    "arr = [1, 4, 6, -8, 2, 9, 7, 3]\n",
    "prefix = [arr[0]]\n",
    "n = len(arr)\n",
    "for x in arr[1:]:\n",
    "    prefix.append(x + prefix[-1])\n",
    "max_sum = -float('inf')\n",
    "for s in range(n):\n",
    "    for e in range(s,n):\n",
    "        if s == 0:\n",
    "            sum = prefix[e]\n",
    "\n",
    "        else:\n",
    "            sum = prefix[e] - prefix[s-1]\n",
    "\n",
    "        if sum>max_sum:\n",
    "            max_sum = sum\n",
    "print(max_sum)"
   ]
  },
  {
   "cell_type": "code",
   "execution_count": 9,
   "metadata": {},
   "outputs": [
    {
     "name": "stdout",
     "output_type": "stream",
     "text": [
      "20\n"
     ]
    }
   ],
   "source": [
    "## optimal solution\n",
    "arr = [1, 4, 7, 5, 3, -9, 2, 6]\n",
    "max_sum = -float('inf')\n",
    "for s in range(n):\n",
    "    sum = 0\n",
    "    for e in range(s,n):\n",
    "        sum += arr[e]\n",
    "        if sum > max_sum:\n",
    "            max_sum = sum\n",
    "print(max_sum)"
   ]
  }
 ],
 "metadata": {
  "kernelspec": {
   "display_name": "Python 3.10.5 64-bit",
   "language": "python",
   "name": "python3"
  },
  "language_info": {
   "codemirror_mode": {
    "name": "ipython",
    "version": 3
   },
   "file_extension": ".py",
   "mimetype": "text/x-python",
   "name": "python",
   "nbconvert_exporter": "python",
   "pygments_lexer": "ipython3",
   "version": "3.10.5"
  },
  "orig_nbformat": 4,
  "vscode": {
   "interpreter": {
    "hash": "26de051ba29f2982a8de78e945f0abaf191376122a1563185a90213a26c5da77"
   }
  }
 },
 "nbformat": 4,
 "nbformat_minor": 2
}
