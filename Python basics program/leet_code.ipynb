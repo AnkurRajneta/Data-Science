{
 "cells": [
  {
   "cell_type": "code",
   "execution_count": 66,
   "metadata": {},
   "outputs": [
    {
     "name": "stdout",
     "output_type": "stream",
     "text": [
      "[3]\n"
     ]
    }
   ],
   "source": [
    "\n",
    "    num1 = [1, 2, 2, 3,1]\n",
    "    n = len(num1)\n",
    "    num2 = [2, 2,3]\n",
    "   \n",
    "    pointer=[]\n",
    "    for i in num2:\n",
    "        count = 0\n",
    "        for j in num1:\n",
    "            if i == j :\n",
    "                \n",
    "                count +=1\n",
    "\n",
    "                \n",
    "                if count >=1:\n",
    "                    flag = True\n",
    "    if flag:\n",
    "        pointer.append(i)\n",
    "    print(pointer)\n"
   ]
  }
 ],
 "metadata": {
  "kernelspec": {
   "display_name": "Python 3",
   "language": "python",
   "name": "python3"
  },
  "language_info": {
   "name": "python",
   "version": "3.10.5"
  },
  "orig_nbformat": 4
 },
 "nbformat": 4,
 "nbformat_minor": 2
}
