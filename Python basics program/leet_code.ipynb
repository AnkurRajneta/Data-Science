{
 "cells": [
  {
   "cell_type": "code",
   "execution_count": 70,
   "metadata": {},
   "outputs": [
    {
     "name": "stdout",
     "output_type": "stream",
     "text": [
      "[2, 2, 2, 2, 3]\n"
     ]
    }
   ],
   "source": [
    "\n",
    "    num1 = [1, 2, 2, 3,1]\n",
    "    n = len(num1)\n",
    "    num2 = [2, 2,3]\n",
    "   \n",
    "    pointer=[]\n",
    "    for i in num2:\n",
    "        count = 0\n",
    "        for j in num1:\n",
    "            if i == j :\n",
    "                count +=1\n",
    "\n",
    "                flag = False\n",
    "                if count >=1:\n",
    "\n",
    "                    pointer.append(i)\n",
    "    \n",
    "    print(pointer)\n"
   ]
  }
 ],
 "metadata": {
  "kernelspec": {
   "display_name": "Python 3",
   "language": "python",
   "name": "python3"
  },
  "language_info": {
   "name": "python",
   "version": "3.10.5"
  },
  "orig_nbformat": 4
 },
 "nbformat": 4,
 "nbformat_minor": 2
}
