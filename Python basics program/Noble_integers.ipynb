{
 "cells": [
  {
   "cell_type": "code",
   "execution_count": 5,
   "metadata": {},
   "outputs": [
    {
     "name": "stdout",
     "output_type": "stream",
     "text": [
      "3\n"
     ]
    }
   ],
   "source": [
    "A = [-10,1, 1, 3, 100]\n",
    "ascending = sorted(A)\n",
    "noble = 0\n",
    "lesser = 0\n",
    "for i in range(len(A)):\n",
    "    if i>0 and A[i] == A[i-1]:\n",
    "        pass\n",
    "    else:\n",
    "        lesser = i\n",
    "    if A[i] == lesser:\n",
    "        noble +=1\n",
    "print(noble)"
   ]
  },
  {
   "cell_type": "code",
   "execution_count": 1,
   "metadata": {},
   "outputs": [],
   "source": [
    "def palindrome(x):\n",
    "    l = []\n",
    "    s = 0\n",
    "    i = x\n",
    "    while i != 0:\n",
    "        A = x % 10\n",
    "        s = s*10 + A\n",
    "        i = i // 10"
   ]
  },
  {
   "cell_type": "code",
   "execution_count": 3,
   "metadata": {},
   "outputs": [
    {
     "ename": "KeyboardInterrupt",
     "evalue": "",
     "output_type": "error",
     "traceback": [
      "\u001b[1;31m---------------------------------------------------------------------------\u001b[0m",
      "\u001b[1;31mKeyboardInterrupt\u001b[0m                         Traceback (most recent call last)",
      "\u001b[1;32mc:\\Users\\admin\\OneDrive\\Documents\\1. python\\Python Ds folder\\Python basics program\\Noble_integers.ipynb Cell 3\u001b[0m in \u001b[0;36m<cell line: 1>\u001b[1;34m()\u001b[0m\n\u001b[1;32m----> <a href='vscode-notebook-cell:/c%3A/Users/admin/OneDrive/Documents/1.%20python/Python%20Ds%20folder/Python%20basics%20program/Noble_integers.ipynb#W2sZmlsZQ%3D%3D?line=0'>1</a>\u001b[0m palindrome(\u001b[39m121\u001b[39;49m)\n\u001b[0;32m      <a href='vscode-notebook-cell:/c%3A/Users/admin/OneDrive/Documents/1.%20python/Python%20Ds%20folder/Python%20basics%20program/Noble_integers.ipynb#W2sZmlsZQ%3D%3D?line=1'>2</a>\u001b[0m \u001b[39mprint\u001b[39m(l)\n",
      "\u001b[1;32mc:\\Users\\admin\\OneDrive\\Documents\\1. python\\Python Ds folder\\Python basics program\\Noble_integers.ipynb Cell 3\u001b[0m in \u001b[0;36mpalindrome\u001b[1;34m(x)\u001b[0m\n\u001b[0;32m      <a href='vscode-notebook-cell:/c%3A/Users/admin/OneDrive/Documents/1.%20python/Python%20Ds%20folder/Python%20basics%20program/Noble_integers.ipynb#W2sZmlsZQ%3D%3D?line=2'>3</a>\u001b[0m \u001b[39mwhile\u001b[39;00m x \u001b[39m!=\u001b[39m \u001b[39m0\u001b[39m:\n\u001b[0;32m      <a href='vscode-notebook-cell:/c%3A/Users/admin/OneDrive/Documents/1.%20python/Python%20Ds%20folder/Python%20basics%20program/Noble_integers.ipynb#W2sZmlsZQ%3D%3D?line=3'>4</a>\u001b[0m     A \u001b[39m=\u001b[39m x \u001b[39m%\u001b[39m \u001b[39m10\u001b[39m\n\u001b[1;32m----> <a href='vscode-notebook-cell:/c%3A/Users/admin/OneDrive/Documents/1.%20python/Python%20Ds%20folder/Python%20basics%20program/Noble_integers.ipynb#W2sZmlsZQ%3D%3D?line=4'>5</a>\u001b[0m     l\u001b[39m.\u001b[39;49mappend(A)\n\u001b[0;32m      <a href='vscode-notebook-cell:/c%3A/Users/admin/OneDrive/Documents/1.%20python/Python%20Ds%20folder/Python%20basics%20program/Noble_integers.ipynb#W2sZmlsZQ%3D%3D?line=6'>7</a>\u001b[0m x \u001b[39m=\u001b[39m x\u001b[39m/\u001b[39m\u001b[39m/\u001b[39m\u001b[39m10\u001b[39m\n",
      "\u001b[1;31mKeyboardInterrupt\u001b[0m: "
     ]
    }
   ],
   "source": [
    "palindrome(121)\n",
    "print(l)"
   ]
  }
 ],
 "metadata": {
  "kernelspec": {
   "display_name": "Python 3",
   "language": "python",
   "name": "python3"
  },
  "language_info": {
   "codemirror_mode": {
    "name": "ipython",
    "version": 3
   },
   "file_extension": ".py",
   "mimetype": "text/x-python",
   "name": "python",
   "nbconvert_exporter": "python",
   "pygments_lexer": "ipython3",
   "version": "3.10.5"
  },
  "orig_nbformat": 4
 },
 "nbformat": 4,
 "nbformat_minor": 2
}
