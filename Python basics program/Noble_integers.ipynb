{
 "cells": [
  {
   "cell_type": "code",
   "execution_count": 5,
   "metadata": {},
   "outputs": [
    {
     "name": "stdout",
     "output_type": "stream",
     "text": [
      "3\n"
     ]
    }
   ],
   "source": [
    "A = [-10,1, 1, 3, 100]\n",
    "ascending = sorted(A)\n",
    "noble = 0\n",
    "lesser = 0\n",
    "for i in range(len(A)):\n",
    "    if i>0 and A[i] == A[i-1]:\n",
    "        pass\n",
    "    else:\n",
    "        lesser = i\n",
    "    if A[i] == lesser:\n",
    "        noble +=1\n",
    "print(noble)"
   ]
  }
 ],
 "metadata": {
  "kernelspec": {
   "display_name": "Python 3",
   "language": "python",
   "name": "python3"
  },
  "language_info": {
   "codemirror_mode": {
    "name": "ipython",
    "version": 3
   },
   "file_extension": ".py",
   "mimetype": "text/x-python",
   "name": "python",
   "nbconvert_exporter": "python",
   "pygments_lexer": "ipython3",
   "version": "3.10.5"
  },
  "orig_nbformat": 4
 },
 "nbformat": 4,
 "nbformat_minor": 2
}
