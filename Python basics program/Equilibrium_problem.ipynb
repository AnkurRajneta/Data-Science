{
 "cells": [
  {
   "cell_type": "code",
   "execution_count": null,
   "metadata": {},
   "outputs": [],
   "source": [
    "def equii(arr):\n",
    "    n = len(arr)\n",
    "    for i in range(n):\n",
    "        left = 0\n",
    "        for j in range(i):\n",
    "            left += arr[j]\n",
    "        right = 0\n",
    "        for j in range(i+1,n):\n",
    "            right += arr[j]\n",
    "        if left == right:\n",
    "           print(\"Equilibrium\")\n",
    "\n",
    "\n",
    "arr = [2, 7, -6, 8]\n",
    "equii(arr)\n"
   ]
  }
 ],
 "metadata": {
  "language_info": {
   "name": "python"
  },
  "orig_nbformat": 4
 },
 "nbformat": 4,
 "nbformat_minor": 2
}
