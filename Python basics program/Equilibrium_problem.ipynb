{
 "cells": [
  {
   "cell_type": "markdown",
   "metadata": {},
   "source": [
    "## Equilibrium problem"
   ]
  },
  {
   "cell_type": "code",
   "execution_count": 1,
   "metadata": {},
   "outputs": [
    {
     "name": "stdout",
     "output_type": "stream",
     "text": [
      "Equilibrium\n"
     ]
    }
   ],
   "source": [
    "def equii(arr):\n",
    "    n = len(arr)\n",
    "    for i in range(n):\n",
    "        left = 0\n",
    "        for j in range(i):\n",
    "            left += arr[j]\n",
    "        right = 0\n",
    "        for j in range(i+1,n):\n",
    "            right += arr[j]\n",
    "        if left == right:\n",
    "           print(\"Equilibrium\")\n",
    "\n",
    "\n",
    "arr = [2, 7, -6, 8]\n",
    "equii(arr)\n"
   ]
  },
  {
   "cell_type": "markdown",
   "metadata": {},
   "source": [
    "## Equilibrium problem while using prefix_sum"
   ]
  },
  {
   "cell_type": "code",
   "execution_count": 3,
   "metadata": {},
   "outputs": [
    {
     "name": "stdout",
     "output_type": "stream",
     "text": [
      "Equilibrium\n"
     ]
    }
   ],
   "source": [
    "arr = [3,9,5,4,8]\n",
    "n=len(arr)\n",
    "p = [arr[0]]\n",
    "for x in arr[1:]:\n",
    "    p.append(x+p[-1])\n",
    "\n",
    "for i in range(n):\n",
    "    left = p[i-1]\n",
    "    right = p[n-1] - p[i]\n",
    "    if left == right:\n",
    "        print(\"Equilibrium\")\n"
   ]
  },
  {
   "cell_type": "markdown",
   "metadata": {},
   "source": [
    "## Equilibrium problem with Time complexity-o(n) and space complexity-o(1)"
   ]
  },
  {
   "cell_type": "code",
   "execution_count": 1,
   "metadata": {},
   "outputs": [
    {
     "data": {
      "text/plain": [
       "True"
      ]
     },
     "execution_count": 1,
     "metadata": {},
     "output_type": "execute_result"
    }
   ],
   "source": [
    "def equii(arr):\n",
    "    n = len(arr)\n",
    "    total = 0\n",
    "    for x in arr:\n",
    "        total += x\n",
    "    left = 0\n",
    "    for i in range(n):\n",
    "        right = total - left - arr[i]\n",
    "        if left == right:\n",
    "            return True\n",
    "        left += arr[i]\n",
    "    return False\n",
    "\n",
    "arr = [2,5,8,6,3,7,5]\n",
    "equii(arr)"
   ]
  },
  {
   "cell_type": "markdown",
   "metadata": {},
   "source": [
    "**Equilibrium problem using sum function**"
   ]
  },
  {
   "cell_type": "code",
   "execution_count": 2,
   "metadata": {},
   "outputs": [
    {
     "name": "stdout",
     "output_type": "stream",
     "text": [
      "Equilibrium\n"
     ]
    }
   ],
   "source": [
    "arr = [1, 5, 2, 6, 2, 3, 3]\n",
    "n = len(arr)\n",
    "total = sum(arr)\n",
    "left = 0\n",
    "for i in range(n):\n",
    "    right = total - left - arr[i]\n",
    "    if left == right:\n",
    "       print(\"Equilibrium\")\n",
    "    left +=arr[i]"
   ]
  },
  {
   "cell_type": "code",
   "execution_count": null,
   "metadata": {},
   "outputs": [],
   "source": []
  },
  {
   "cell_type": "markdown",
   "metadata": {},
   "source": []
  },
  {
   "cell_type": "code",
   "execution_count": null,
   "metadata": {},
   "outputs": [],
   "source": []
  }
 ],
 "metadata": {
  "kernelspec": {
   "display_name": "Python 3.10.5 64-bit",
   "language": "python",
   "name": "python3"
  },
  "language_info": {
   "codemirror_mode": {
    "name": "ipython",
    "version": 3
   },
   "file_extension": ".py",
   "mimetype": "text/x-python",
   "name": "python",
   "nbconvert_exporter": "python",
   "pygments_lexer": "ipython3",
   "version": "3.10.5"
  },
  "orig_nbformat": 4,
  "vscode": {
   "interpreter": {
    "hash": "26de051ba29f2982a8de78e945f0abaf191376122a1563185a90213a26c5da77"
   }
  }
 },
 "nbformat": 4,
 "nbformat_minor": 2
}
