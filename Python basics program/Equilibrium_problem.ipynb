{
 "cells": [
  {
   "cell_type": "code",
   "execution_count": 1,
   "metadata": {},
   "outputs": [
    {
     "name": "stdout",
     "output_type": "stream",
     "text": [
      "Equilibrium\n"
     ]
    }
   ],
   "source": [
    "def equii(arr):\n",
    "    n = len(arr)\n",
    "    for i in range(n):\n",
    "        left = 0\n",
    "        for j in range(i):\n",
    "            left += arr[j]\n",
    "        right = 0\n",
    "        for j in range(i+1,n):\n",
    "            right += arr[j]\n",
    "        if left == right:\n",
    "           print(\"Equilibrium\")\n",
    "\n",
    "\n",
    "arr = [2, 7, -6, 8]\n",
    "equii(arr)\n"
   ]
  }
 ],
 "metadata": {
  "kernelspec": {
   "display_name": "Python 3.10.5 64-bit",
   "language": "python",
   "name": "python3"
  },
  "language_info": {
   "codemirror_mode": {
    "name": "ipython",
    "version": 3
   },
   "file_extension": ".py",
   "mimetype": "text/x-python",
   "name": "python",
   "nbconvert_exporter": "python",
   "pygments_lexer": "ipython3",
   "version": "3.10.5"
  },
  "orig_nbformat": 4,
  "vscode": {
   "interpreter": {
    "hash": "26de051ba29f2982a8de78e945f0abaf191376122a1563185a90213a26c5da77"
   }
  }
 },
 "nbformat": 4,
 "nbformat_minor": 2
}
