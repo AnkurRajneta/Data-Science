{
 "cells": [
  {
   "cell_type": "code",
   "execution_count": 1,
   "metadata": {},
   "outputs": [],
   "source": [
    "M = [[0, 1, -6, 8, 3, 2, 5], [10, 10, 9, 7, 0, 1, 3], [1, 6, 8, 2, 4, 9, 7],[3, -1, 7, 7, 8, 9, 0]]\n",
    "n = len(M)\n",
    "m = len(M[0])"
   ]
  },
  {
   "cell_type": "code",
   "execution_count": 2,
   "metadata": {},
   "outputs": [
    {
     "name": "stdout",
     "output_type": "stream",
     "text": [
      "0 1 -6 8 3 2 5 \n",
      "10 10 9 7 0 1 3 \n",
      "1 6 8 2 4 9 7 \n",
      "3 -1 7 7 8 9 0 \n"
     ]
    }
   ],
   "source": [
    "\n",
    "# Matrix arrangement in rowwise\n",
    "for row in M:\n",
    "    sum = 0\n",
    "    for element in row:\n",
    "        print(element,end = \" \")\n",
    "    print()"
   ]
  },
  {
   "cell_type": "code",
   "execution_count": 3,
   "metadata": {},
   "outputs": [
    {
     "name": "stdout",
     "output_type": "stream",
     "text": [
      "0 10 1 3 \n",
      "1 10 6 -1 \n",
      "-6 9 8 7 \n",
      "8 7 2 7 \n",
      "3 0 4 8 \n",
      "2 1 9 9 \n",
      "5 3 7 0 \n"
     ]
    }
   ],
   "source": [
    "#matrix arrangement in columnwise\n",
    "for col in range(m):\n",
    "    for row in range(n):\n",
    "        print(M[row][col], end = \" \")\n",
    "    print()"
   ]
  },
  {
   "attachments": {},
   "cell_type": "markdown",
   "metadata": {},
   "source": [
    "Print the boundary elements of a given matrix in clockwise direction\n",
    "\n"
   ]
  },
  {
   "cell_type": "code",
   "execution_count": 4,
   "metadata": {},
   "outputs": [],
   "source": [
    "M = [[1, 2, 5, 4, 8],\n",
    "    [9, 8, 3, 6, 2],\n",
    "    [2, 76, 13, 2, 9],\n",
    "    [6, 5, 43, 32, 1],\n",
    "    [88, 27, 53, 62, 45]]\n",
    "n =len(M)\n",
    "m = len(M[0])"
   ]
  },
  {
   "cell_type": "code",
   "execution_count": 5,
   "metadata": {},
   "outputs": [],
   "source": [
    "M = [[1, 2, 5, 4, 8],\n",
    "    [9, 8, 3, 6, 2],\n",
    "    [2, 76, 13, 2, 9],\n",
    "    [6, 5, 43, 32, 1],\n",
    "    [88, 27, 53, 62, 45]]\n",
    "\n",
    "\n",
    "def print_boundary(M):\n",
    "    n =len(M)\n",
    "    m = len(M[0])\n",
    "    r, c = 0, 0\n",
    "    direction = 'right'\n",
    "    while True:\n",
    "        print(M[r][c])\n",
    "    \n",
    "        if direction == 'right':\n",
    "            if c <m:\n",
    "                c = c+1\n",
    "            else:\n",
    "                direction = 'down'\n",
    "                r = r+1\n",
    "            \n",
    "        elif direction == 'down':\n",
    "            if r < n:\n",
    "                r = r + 1\n",
    "            else:\n",
    "                direction = 'left'\n",
    "                c = c-1\n",
    "        \n",
    "        elif direction =='left':\n",
    "            if c>0:\n",
    "                c = c-1\n",
    "                \n",
    "            else:\n",
    "                direction = 'up'\n",
    "                r = r -1\n",
    "        elif direction =='up':\n",
    "             if r >0:\n",
    "                r = r-1\n",
    "        \n",
    "             else:\n",
    "                direction = 'right'\n",
    "                c = c+1\n",
    "                \n",
    "                "
   ]
  },
  {
   "cell_type": "code",
   "execution_count": 6,
   "metadata": {},
   "outputs": [
    {
     "name": "stdout",
     "output_type": "stream",
     "text": [
      "1\n",
      "2\n",
      "5\n",
      "4\n",
      "8\n"
     ]
    },
    {
     "ename": "IndexError",
     "evalue": "list index out of range",
     "output_type": "error",
     "traceback": [
      "\u001b[1;31m---------------------------------------------------------------------------\u001b[0m",
      "\u001b[1;31mIndexError\u001b[0m                                Traceback (most recent call last)",
      "\u001b[1;32mc:\\Users\\admin\\OneDrive\\Documents\\1. python\\Python Ds folder\\Python basics program\\Matrices.ipynb Cell 7\u001b[0m in \u001b[0;36m<cell line: 1>\u001b[1;34m()\u001b[0m\n\u001b[1;32m----> <a href='vscode-notebook-cell:/c%3A/Users/admin/OneDrive/Documents/1.%20python/Python%20Ds%20folder/Python%20basics%20program/Matrices.ipynb#W6sZmlsZQ%3D%3D?line=0'>1</a>\u001b[0m print_boundary(M)\n",
      "\u001b[1;32mc:\\Users\\admin\\OneDrive\\Documents\\1. python\\Python Ds folder\\Python basics program\\Matrices.ipynb Cell 7\u001b[0m in \u001b[0;36mprint_boundary\u001b[1;34m(M)\u001b[0m\n\u001b[0;32m     <a href='vscode-notebook-cell:/c%3A/Users/admin/OneDrive/Documents/1.%20python/Python%20Ds%20folder/Python%20basics%20program/Matrices.ipynb#W6sZmlsZQ%3D%3D?line=11'>12</a>\u001b[0m direction \u001b[39m=\u001b[39m \u001b[39m'\u001b[39m\u001b[39mright\u001b[39m\u001b[39m'\u001b[39m\n\u001b[0;32m     <a href='vscode-notebook-cell:/c%3A/Users/admin/OneDrive/Documents/1.%20python/Python%20Ds%20folder/Python%20basics%20program/Matrices.ipynb#W6sZmlsZQ%3D%3D?line=12'>13</a>\u001b[0m \u001b[39mwhile\u001b[39;00m \u001b[39mTrue\u001b[39;00m:\n\u001b[1;32m---> <a href='vscode-notebook-cell:/c%3A/Users/admin/OneDrive/Documents/1.%20python/Python%20Ds%20folder/Python%20basics%20program/Matrices.ipynb#W6sZmlsZQ%3D%3D?line=13'>14</a>\u001b[0m     \u001b[39mprint\u001b[39m(M[r][c])\n\u001b[0;32m     <a href='vscode-notebook-cell:/c%3A/Users/admin/OneDrive/Documents/1.%20python/Python%20Ds%20folder/Python%20basics%20program/Matrices.ipynb#W6sZmlsZQ%3D%3D?line=15'>16</a>\u001b[0m     \u001b[39mif\u001b[39;00m direction \u001b[39m==\u001b[39m \u001b[39m'\u001b[39m\u001b[39mright\u001b[39m\u001b[39m'\u001b[39m:\n\u001b[0;32m     <a href='vscode-notebook-cell:/c%3A/Users/admin/OneDrive/Documents/1.%20python/Python%20Ds%20folder/Python%20basics%20program/Matrices.ipynb#W6sZmlsZQ%3D%3D?line=16'>17</a>\u001b[0m         \u001b[39mif\u001b[39;00m c \u001b[39m<\u001b[39mm:\n",
      "\u001b[1;31mIndexError\u001b[0m: list index out of range"
     ]
    }
   ],
   "source": [
    "print_boundary(M)"
   ]
  }
 ],
 "metadata": {
  "kernelspec": {
   "display_name": "Python 3",
   "language": "python",
   "name": "python3"
  },
  "language_info": {
   "codemirror_mode": {
    "name": "ipython",
    "version": 3
   },
   "file_extension": ".py",
   "mimetype": "text/x-python",
   "name": "python",
   "nbconvert_exporter": "python",
   "pygments_lexer": "ipython3",
   "version": "3.10.5"
  },
  "orig_nbformat": 4,
  "vscode": {
   "interpreter": {
    "hash": "26de051ba29f2982a8de78e945f0abaf191376122a1563185a90213a26c5da77"
   }
  }
 },
 "nbformat": 4,
 "nbformat_minor": 2
}
