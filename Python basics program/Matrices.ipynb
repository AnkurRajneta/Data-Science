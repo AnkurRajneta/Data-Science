{
 "cells": [
  {
   "cell_type": "code",
   "execution_count": 1,
   "metadata": {},
   "outputs": [],
   "source": [
    "M = [[0, 1, -6, 8, 3, 2, 5], [10, 10, 9, 7, 0, 1, 3], [1, 6, 8, 2, 4, 9, 7],[3, -1, 7, 7, 8, 9, 0]]\n",
    "n = len(M)\n",
    "m = len(M[0])"
   ]
  },
  {
   "cell_type": "code",
   "execution_count": 3,
   "metadata": {},
   "outputs": [
    {
     "name": "stdout",
     "output_type": "stream",
     "text": [
      "0 1 -6 8 3 2 5 \n",
      "10 10 9 7 0 1 3 \n",
      "1 6 8 2 4 9 7 \n",
      "3 -1 7 7 8 9 0 \n"
     ]
    }
   ],
   "source": [
    "\n",
    "# Matrix arrangement in rowwise\n",
    "for row in M:\n",
    "    sum = 0\n",
    "    for element in row:\n",
    "        print(element,end = \" \")\n",
    "    print()"
   ]
  },
  {
   "cell_type": "code",
   "execution_count": 8,
   "metadata": {},
   "outputs": [
    {
     "name": "stdout",
     "output_type": "stream",
     "text": [
      "0 10 1 3 \n",
      "1 10 6 -1 \n",
      "-6 9 8 7 \n",
      "8 7 2 7 \n",
      "3 0 4 8 \n",
      "2 1 9 9 \n",
      "5 3 7 0 \n"
     ]
    }
   ],
   "source": [
    "#matrix arrangement in columnwise\n",
    "for col in range(m):\n",
    "    for row in range(n):\n",
    "        print(M[row][col], end = \" \")\n",
    "    print()"
   ]
  }
 ],
 "metadata": {
  "kernelspec": {
   "display_name": "Python 3",
   "language": "python",
   "name": "python3"
  },
  "language_info": {
   "codemirror_mode": {
    "name": "ipython",
    "version": 3
   },
   "file_extension": ".py",
   "mimetype": "text/x-python",
   "name": "python",
   "nbconvert_exporter": "python",
   "pygments_lexer": "ipython3",
   "version": "3.10.5"
  },
  "orig_nbformat": 4,
  "vscode": {
   "interpreter": {
    "hash": "26de051ba29f2982a8de78e945f0abaf191376122a1563185a90213a26c5da77"
   }
  }
 },
 "nbformat": 4,
 "nbformat_minor": 2
}
