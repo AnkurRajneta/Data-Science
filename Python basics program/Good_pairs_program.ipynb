{
 "cells": [
  {
   "cell_type": "markdown",
   "metadata": {},
   "source": [
    "## Given a string S(all letters are lower_case) count the numbers of pairs (i,j)\n",
    "such that i<j and s[i] = 'a' and s[j] = 'g'\n",
    "Given string S count the no of occurance of the subsequence 'ag'"
   ]
  },
  {
   "cell_type": "code",
   "execution_count": 10,
   "metadata": {},
   "outputs": [
    {
     "name": "stdout",
     "output_type": "stream",
     "text": [
      "15\n"
     ]
    }
   ],
   "source": [
    "##Brute force soloution\n",
    "\n",
    "a = \"abcdgaavbnmghgnakkjgyuitga\"\n",
    "n = len(a)\n",
    "count = 0\n",
    "for i in range(n):\n",
    "    if a[i] =='a': \n",
    "      for j in range(i+1,n):\n",
    "          if a[j] == 'g':\n",
    "             count+=1\n",
    "print(count)"
   ]
  },
  {
   "cell_type": "code",
   "execution_count": 3,
   "metadata": {},
   "outputs": [
    {
     "name": "stdout",
     "output_type": "stream",
     "text": [
      "11\n"
     ]
    }
   ],
   "source": [
    "## solution with time complexity O(n) and space complexity O(n)\n",
    "s = \"aghurtejgjkuoggnjiauoapgahyurg\"\n",
    "n = len(s)\n",
    "count = 0\n",
    "g_count = [0]*n\n",
    "for i in reversed(range(n)):\n",
    "    if s[i] =='g':\n",
    "        count += 1\n",
    "    g_count[i] = count\n",
    "\n",
    "count = 0\n",
    "for i in range(n):\n",
    "    if s[i] == 'a':\n",
    "        count += g_count[i]\n",
    "\n",
    "print(count)\n"
   ]
  },
  {
   "cell_type": "markdown",
   "metadata": {},
   "source": [
    "# Given Array A of size N,count the number of leader in the array\n",
    "\n"
   ]
  },
  {
   "cell_type": "code",
   "execution_count": 11,
   "metadata": {},
   "outputs": [
    {
     "name": "stdout",
     "output_type": "stream",
     "text": [
      "6\n",
      "1\n"
     ]
    }
   ],
   "source": [
    "a=[1, 2, 3, 6, 1]\n",
    "\n",
    "n=len(a)\n",
    "\n",
    "for i in range(n):\n",
    "\n",
    "    hl = True\n",
    "\n",
    "    for k in range(i+1, n):\n",
    "        if a[k] > a[i]:\n",
    "            hl = False\n",
    "\n",
    "    if hl:\n",
    "        print(a[i])\n"
   ]
  },
  {
   "cell_type": "code",
   "execution_count": null,
   "metadata": {},
   "outputs": [],
   "source": []
  }
 ],
 "metadata": {
  "kernelspec": {
   "display_name": "Python 3.10.5 64-bit",
   "language": "python",
   "name": "python3"
  },
  "language_info": {
   "codemirror_mode": {
    "name": "ipython",
    "version": 3
   },
   "file_extension": ".py",
   "mimetype": "text/x-python",
   "name": "python",
   "nbconvert_exporter": "python",
   "pygments_lexer": "ipython3",
   "version": "3.10.5"
  },
  "orig_nbformat": 4,
  "vscode": {
   "interpreter": {
    "hash": "26de051ba29f2982a8de78e945f0abaf191376122a1563185a90213a26c5da77"
   }
  }
 },
 "nbformat": 4,
 "nbformat_minor": 2
}
