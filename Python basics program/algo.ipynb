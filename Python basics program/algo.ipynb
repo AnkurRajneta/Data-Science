{
 "cells": [
  {
   "attachments": {},
   "cell_type": "markdown",
   "metadata": {},
   "source": [
    "Validating Subsequence problem\n",
    "\n",
    "Time complexity:O(n)  Space complexity:O(1)"
   ]
  },
  {
   "cell_type": "code",
   "execution_count": 3,
   "metadata": {},
   "outputs": [],
   "source": [
    "\n",
    "def validate_subsequence(array,sequence):\n",
    "    seqId = 0\n",
    "    for value in array:\n",
    "        if seqId == len(sequence):\n",
    "            break\n",
    "        if sequence[seqId] ==value:\n",
    "            seqId += 1\n",
    "    return seqId == len(sequence)\n",
    "\n"
   ]
  },
  {
   "cell_type": "code",
   "execution_count": 6,
   "metadata": {},
   "outputs": [
    {
     "data": {
      "text/plain": [
       "True"
      ]
     },
     "execution_count": 6,
     "metadata": {},
     "output_type": "execute_result"
    }
   ],
   "source": [
    "array = [5, 1, 22, 25, 6, -1, 8, 10, 11, 7]\n",
    "sequence = [1, 6, -1, 10]\n",
    "validate_subsequence(array,sequence)"
   ]
  }
 ],
 "metadata": {
  "kernelspec": {
   "display_name": "Python 3",
   "language": "python",
   "name": "python3"
  },
  "language_info": {
   "codemirror_mode": {
    "name": "ipython",
    "version": 3
   },
   "file_extension": ".py",
   "mimetype": "text/x-python",
   "name": "python",
   "nbconvert_exporter": "python",
   "pygments_lexer": "ipython3",
   "version": "3.10.5"
  },
  "orig_nbformat": 4
 },
 "nbformat": 4,
 "nbformat_minor": 2
}
