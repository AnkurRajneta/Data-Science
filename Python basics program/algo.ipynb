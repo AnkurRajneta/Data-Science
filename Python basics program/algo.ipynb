{
 "cells": [
  {
   "attachments": {},
   "cell_type": "markdown",
   "metadata": {},
   "source": [
    "Validating Subsequence problem\n",
    "\n",
    "Time complexity:O(n)  Space complexity:O(1)"
   ]
  },
  {
   "cell_type": "code",
   "execution_count": 3,
   "metadata": {},
   "outputs": [],
   "source": [
    "\n",
    "def validate_subsequence(array,sequence):\n",
    "    seqId = 0\n",
    "    for value in array:\n",
    "        if seqId == len(sequence):\n",
    "            break \n",
    "        if sequence[seqId] ==value:\n",
    "            seqId += 1\n",
    "    return seqId == len(sequence)\n",
    "\n"
   ]
  },
  {
   "cell_type": "code",
   "execution_count": 6,
   "metadata": {},
   "outputs": [
    {
     "data": {
      "text/plain": [
       "True"
      ]
     },
     "execution_count": 6,
     "metadata": {},
     "output_type": "execute_result"
    }
   ],
   "source": [
    "array = [5, 1, 22, 25, 6, -1, 8, 10, 11, 7]\n",
    "sequence = [1, 6, -1, 10]\n",
    "validate_subsequence(array,sequence)   "
   ]
  },
  {
   "cell_type": "code",
   "execution_count": 2,
   "metadata": {},
   "outputs": [],
   "source": [
    "## two sum problem\n",
    "def twoo_sum(A,B):\n",
    "    nums = {}\n",
    "    for num in A:\n",
    "        required = B-num\n",
    "        if required in nums:\n",
    "            return [required,num]\n",
    "        else:\n",
    "            nums[num] = True\n",
    "    return []"
   ]
  },
  {
   "cell_type": "code",
   "execution_count": 3,
   "metadata": {},
   "outputs": [
    {
     "data": {
      "text/plain": [
       "[2, 10]"
      ]
     },
     "execution_count": 3,
     "metadata": {},
     "output_type": "execute_result"
    }
   ],
   "source": [
    "twoo_sum([2,3,5,10,8],12)"
   ]
  },
  {
   "attachments": {},
   "cell_type": "markdown",
   "metadata": {},
   "source": [
    "Sorted subsequence problem"
   ]
  },
  {
   "cell_type": "code",
   "execution_count": 6,
   "metadata": {},
   "outputs": [],
   "source": [
    "def sorted_sequence(array):\n",
    "    sortedseq = [0 for i in array]\n",
    "    smallerIdx = 0\n",
    "    largerIdx = len(array)-1\n",
    "    for j in reversed(range(len(array))):\n",
    "        smaller = array[smallerIdx]\n",
    "        larger =  array[largerIdx]\n",
    "        if abs(smaller) > abs(larger):\n",
    "            sortedseq[j] = smaller*smaller\n",
    "            smallerIdx +=1\n",
    "        else:\n",
    "            sortedseq[j] = larger*larger\n",
    "            largerIdx-=1\n",
    "    print(sortedseq)\n"
   ]
  },
  {
   "cell_type": "code",
   "execution_count": 7,
   "metadata": {},
   "outputs": [
    {
     "name": "stdout",
     "output_type": "stream",
     "text": [
      "[0, 1, 4, 9, 16]\n"
     ]
    }
   ],
   "source": [
    "sorted_sequence([-4,-2,0,1,3])"
   ]
  },
  {
   "attachments": {},
   "cell_type": "markdown",
   "metadata": {},
   "source": [
    "Tournament Winner"
   ]
  },
  {
   "cell_type": "code",
   "execution_count": 1,
   "metadata": {},
   "outputs": [],
   "source": [
    "HOME_TEAM_WON = 1\n",
    "def tournamentWinner(competitions,results):\n",
    "    currentBestTeam = \"\"\n",
    "    scores = {currentBestTeam : 0}\n",
    "\n",
    "    for idx,competition in  enumerate(competitions):\n",
    "        result = results[idx]\n",
    "        homeTeam, awayTeam = competition\n",
    "\n",
    "        winningTeam = homeTeam if result == HOME_TEAM_WON else awayTeam\n",
    "\n",
    "        updateScores(winningTeam, 3, scores)\n",
    "\n",
    "        if scores[winningTeam] > scores[currentBestTeam]:\n",
    "            currentBestTeam = winningTeam\n",
    "\n",
    "    return currentBestTeam\n",
    "\n",
    "    def updateScores(team, points, scores):\n",
    "        if team not in scores:\n",
    "            scores[team] = 0\n",
    "\n",
    "        scores[team] += points"
   ]
  },
  {
   "cell_type": "code",
   "execution_count": 8,
   "metadata": {},
   "outputs": [],
   "source": [
    "def sortt(array,sequence):\n",
    "   \n",
    "    seqidx = 0\n",
    "    for value in array:\n",
    "        if seqidx == len(sequence):\n",
    "            break\n",
    "        \n",
    "        if sequence[seqidx] == value:\n",
    "            seqidx+=1\n",
    "    return seqidx == len(sequence)\n",
    "\n"
   ]
  },
  {
   "cell_type": "code",
   "execution_count": 10,
   "metadata": {},
   "outputs": [
    {
     "data": {
      "text/plain": [
       "False"
      ]
     },
     "execution_count": 10,
     "metadata": {},
     "output_type": "execute_result"
    }
   ],
   "source": [
    "sortt([1,2,3,4,5,6],[2,9,4])"
   ]
  },
  {
   "cell_type": "code",
   "execution_count": 16,
   "metadata": {},
   "outputs": [],
   "source": [
    "def two_sum(A,B):\n",
    "    num = {}\n",
    "    for i in A:\n",
    "        required = B-A[i]\n",
    "        if required in num:\n",
    "            return (required,A[i])\n",
    "        else:\n",
    "            num[i]= True\n",
    "    return[]"
   ]
  },
  {
   "cell_type": "code",
   "execution_count": 17,
   "metadata": {},
   "outputs": [
    {
     "data": {
      "text/plain": [
       "(2, 8)"
      ]
     },
     "execution_count": 17,
     "metadata": {},
     "output_type": "execute_result"
    }
   ],
   "source": [
    "two_sum([2,4,6,5,8],10)"
   ]
  },
  {
   "cell_type": "markdown",
   "metadata": {},
   "source": [
    "Non Constructible change"
   ]
  },
  {
   "cell_type": "code",
   "execution_count": 9,
   "metadata": {},
   "outputs": [],
   "source": [
    "def nonConstructibleChange(coins):\n",
    "    coins.sort()\n",
    "\n",
    "    currentChange = 0\n",
    "\n",
    "    for coin in coins:\n",
    "        if coin > currentChange + 1:\n",
    "            return currentChange + 1\n",
    "\n",
    "        currentChange += coin\n",
    "\n",
    "    return currentChange + 1"
   ]
  },
  {
   "cell_type": "code",
   "execution_count": 10,
   "metadata": {},
   "outputs": [
    {
     "data": {
      "text/plain": [
       "20"
      ]
     },
     "execution_count": 10,
     "metadata": {},
     "output_type": "execute_result"
    }
   ],
   "source": [
    "nonConstructibleChange([5, 7, 1, 1, 2, 3, 22])"
   ]
  }
 ],
 "metadata": {
  "kernelspec": {
   "display_name": "Python 3",
   "language": "python",
   "name": "python3"
  },
  "language_info": {
   "codemirror_mode": {
    "name": "ipython",
    "version": 3
   },
   "file_extension": ".py",
   "mimetype": "text/x-python",
   "name": "python",
   "nbconvert_exporter": "python",
   "pygments_lexer": "ipython3",
   "version": "3.10.5"
  },
  "orig_nbformat": 4
 },
 "nbformat": 4,
 "nbformat_minor": 2
}
