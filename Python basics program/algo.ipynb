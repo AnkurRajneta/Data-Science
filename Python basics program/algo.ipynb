{
 "cells": [
  {
   "attachments": {},
   "cell_type": "markdown",
   "metadata": {},
   "source": [
    "Validating Subsequence problem\n",
    "\n",
    "Time complexity:O(n)  Space complexity:O(1)"
   ]
  },
  {
   "cell_type": "code",
   "execution_count": 3,
   "metadata": {},
   "outputs": [],
   "source": [
    "\n",
    "def validate_subsequence(array,sequence):\n",
    "    seqId = 0\n",
    "    for value in array:\n",
    "        if seqId == len(sequence):\n",
    "            break\n",
    "        if sequence[seqId] ==value:\n",
    "            seqId += 1\n",
    "    return seqId == len(sequence)\n",
    "\n"
   ]
  },
  {
   "cell_type": "code",
   "execution_count": 6,
   "metadata": {},
   "outputs": [
    {
     "data": {
      "text/plain": [
       "True"
      ]
     },
     "execution_count": 6,
     "metadata": {},
     "output_type": "execute_result"
    }
   ],
   "source": [
    "array = [5, 1, 22, 25, 6, -1, 8, 10, 11, 7]\n",
    "sequence = [1, 6, -1, 10]\n",
    "validate_subsequence(array,sequence)"
   ]
  },
  {
   "cell_type": "code",
   "execution_count": 9,
   "metadata": {},
   "outputs": [],
   "source": [
    "## two sum problem\n",
    "def twoo_sum(A,B):\n",
    "    nums = {}\n",
    "    for num in A:\n",
    "        required = B-num\n",
    "        if required in nums:\n",
    "            return [required,num]\n",
    "        else:\n",
    "            nums[num] = True\n",
    "    return []"
   ]
  },
  {
   "cell_type": "code",
   "execution_count": 10,
   "metadata": {},
   "outputs": [
    {
     "data": {
      "text/plain": [
       "[2, 8]"
      ]
     },
     "execution_count": 10,
     "metadata": {},
     "output_type": "execute_result"
    }
   ],
   "source": [
    "twoo_sum([2,3,5,8],10)"
   ]
  }
 ],
 "metadata": {
  "kernelspec": {
   "display_name": "Python 3",
   "language": "python",
   "name": "python3"
  },
  "language_info": {
   "codemirror_mode": {
    "name": "ipython",
    "version": 3
   },
   "file_extension": ".py",
   "mimetype": "text/x-python",
   "name": "python",
   "nbconvert_exporter": "python",
   "pygments_lexer": "ipython3",
   "version": "3.10.5"
  },
  "orig_nbformat": 4
 },
 "nbformat": 4,
 "nbformat_minor": 2
}
